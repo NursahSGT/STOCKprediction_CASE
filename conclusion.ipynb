{
 "cells": [
  {
   "cell_type": "code",
   "execution_count": 1,
   "metadata": {},
   "outputs": [],
   "source": [
    "import pandas as pd\n",
    "from sklearn.model_selection import train_test_split\n",
    "import lightgbm as lgb\n",
    "from sklearn.metrics import accuracy_score\n",
    "import joblib\n",
    "import matplotlib.pyplot as plt\n",
    "import numpy as np"
   ]
  },
  {
   "cell_type": "code",
   "execution_count": 2,
   "metadata": {},
   "outputs": [],
   "source": [
    "data = pd.read_csv(\"stockCase.csv\")"
   ]
  },
  {
   "cell_type": "code",
   "execution_count": 4,
   "metadata": {},
   "outputs": [],
   "source": [
    "data['Date'] = pd.to_datetime(data['Date'])"
   ]
  },
  {
   "cell_type": "code",
   "execution_count": 5,
   "metadata": {},
   "outputs": [],
   "source": [
    "data[\"Open\"] = data[\"Open\"].str.replace(\"[a-zA-Z]\", \"\", regex = True)"
   ]
  },
  {
   "cell_type": "code",
   "execution_count": 6,
   "metadata": {},
   "outputs": [],
   "source": [
    "data['Open'] = data['Open'].astype('float')"
   ]
  },
  {
   "cell_type": "code",
   "execution_count": 7,
   "metadata": {},
   "outputs": [],
   "source": [
    "#Outlier\n",
    "for column in data.columns:\n",
    "    low_limit = data[column].quantile(0.25)\n",
    "    high_limit = data[column].quantile(0.75)\n",
    "    iqr = high_limit - low_limit\n",
    "    lower_bound = low_limit - 1.5 * iqr\n",
    "    upper_bound = high_limit + 1.5 * iqr\n",
    "    outliers = data[(data[column] < lower_bound) | (data[column] > upper_bound)]\n",
    "    data = data.drop(outliers.index)"
   ]
  },
  {
   "cell_type": "code",
   "execution_count": 8,
   "metadata": {},
   "outputs": [],
   "source": [
    "data['HL_PCT'] = (data['High'] - data['Low']) / data['Low'] * 100.0  # high-low percentage\n",
    "data['PCT_change'] = (data['Close'] - data['Open']) / data['Open'] * 100.0  # open-close percentage"
   ]
  },
  {
   "cell_type": "code",
   "execution_count": 9,
   "metadata": {},
   "outputs": [
    {
     "data": {
      "text/plain": [
       "Date           0\n",
       "Open          11\n",
       "High           0\n",
       "Low            1\n",
       "Close         23\n",
       "Adj Close      1\n",
       "Volume         0\n",
       "HL_PCT         1\n",
       "PCT_change    34\n",
       "dtype: int64"
      ]
     },
     "execution_count": 9,
     "metadata": {},
     "output_type": "execute_result"
    }
   ],
   "source": [
    "data.isnull().sum()"
   ]
  },
  {
   "cell_type": "code",
   "execution_count": 10,
   "metadata": {},
   "outputs": [],
   "source": [
    "data.dropna(inplace=True)"
   ]
  },
  {
   "cell_type": "code",
   "execution_count": 11,
   "metadata": {},
   "outputs": [],
   "source": [
    "cols = ['Open', 'Close', 'Volume', 'High', 'Low', 'Adj Close', 'HL_PCT', 'PCT_change']\n",
    "\n",
    "for column in cols:\n",
    "   data[column].fillna(data[column].mean(), inplace=True)"
   ]
  },
  {
   "cell_type": "code",
   "execution_count": 12,
   "metadata": {},
   "outputs": [],
   "source": [
    "import matplotlib.pyplot as plt\n",
    "\n",
    "def find_threshold(X_train, y_train, X_test, y_test, model, start=0, stop=1, step=0.05):\n",
    "    thresholds = []\n",
    "    accuracies = []\n",
    "    for threshold in np.arange(start, stop + step, step):\n",
    "        y_pred = [1 if pred > threshold else 0 for pred in model.predict(X_test)]\n",
    "        accuracy = accuracy_score(y_test, y_pred)\n",
    "        thresholds.append(threshold)\n",
    "        accuracies.append(accuracy)\n",
    "    max_accuracy = max(accuracies)\n",
    "    best_threshold = thresholds[accuracies.index(max_accuracy)]\n",
    "    print(f\"Best Threshold: {best_threshold:.2f} | Accuracy: {max_accuracy:.2f}\")\n",
    "    plt.plot(thresholds, accuracies)\n",
    "    plt.xlabel('Threshold')\n",
    "    plt.ylabel('Accuracy')\n",
    "    plt.title('Threshold vs. Accuracy')\n",
    "    plt.show()\n",
    "    return best_threshold\n"
   ]
  },
  {
   "cell_type": "code",
   "execution_count": 13,
   "metadata": {},
   "outputs": [],
   "source": [
    "threshold_PCT_change = 1.0\n",
    "threshold_HL_PCT = 2.0"
   ]
  },
  {
   "cell_type": "code",
   "execution_count": 14,
   "metadata": {},
   "outputs": [],
   "source": [
    "data['buy_signal'] = ((data['PCT_change'] < threshold_PCT_change) & (data['HL_PCT'] < threshold_HL_PCT)).astype(int)"
   ]
  },
  {
   "cell_type": "code",
   "execution_count": 15,
   "metadata": {},
   "outputs": [
    {
     "name": "stdout",
     "output_type": "stream",
     "text": [
      "Best Threshold: 0.05 | Accuracy: 1.00\n"
     ]
    },
    {
     "data": {
      "image/png": "[encoded data removed]",
      "text/plain": [
       "<Figure size 432x288 with 1 Axes>"
      ]
     },
     "metadata": {
      "needs_background": "light"
     },
     "output_type": "display_data"
    }
   ],
   "source": [
    "X = data[['HL_PCT', 'PCT_change']]\n",
    "y = data['buy_signal']\n",
    "X_train, X_test, y_train, y_test = train_test_split(X, y, test_size=0.2, random_state=42)\n",
    "\n",
    "lgb_train = lgb.Dataset(X_train, y_train)\n",
    "params = {\n",
    "    'objective': 'binary',\n",
    "    'metric': 'binary_logloss',\n",
    "    'boosting_type': 'gbdt',\n",
    "    'num_leaves': 31,\n",
    "    'learning_rate': 0.05,\n",
    "    'feature_fraction': 0.9,\n",
    "    'bagging_fraction': 0.8,\n",
    "    'bagging_freq': 5,\n",
    "    'verbose': -1\n",
    "}\n",
    "gbm = lgb.train(params, lgb_train, num_boost_round=100)\n",
    "\n",
    "best_threshold = find_threshold(X_train, y_train, X_test, y_test, gbm, start=0, stop=1, step=0.05)\n"
   ]
  },
  {
   "cell_type": "code",
   "execution_count": null,
   "metadata": {},
   "outputs": [],
   "source": [
    "#threshold_PCT_change = 1.0\n",
    "#threshold_HL_PCT = 2.0"
   ]
  },
  {
   "cell_type": "code",
   "execution_count": null,
   "metadata": {},
   "outputs": [],
   "source": [
    "#data['buy_signal'] = ((data['PCT_change'] < threshold_PCT_change) & (data['HL_PCT'] < threshold_HL_PCT)).astype(int)"
   ]
  },
  {
   "cell_type": "code",
   "execution_count": 22,
   "metadata": {},
   "outputs": [
    {
     "name": "stdout",
     "output_type": "stream",
     "text": [
      "[[1.2, 0.8]]\n"
     ]
    }
   ],
   "source": [
    "#print(data)"
   ]
  },
  {
   "cell_type": "code",
   "execution_count": null,
   "metadata": {},
   "outputs": [],
   "source": [
    "#X = data[['HL_PCT', 'PCT_change']]\n",
    "#y = data['buy_signal']\n",
    "\n",
    "#X_train, X_test, y_train, y_test = train_test_split(X, y, test_size=0.2, random_state=42)\n"
   ]
  },
  {
   "cell_type": "code",
   "execution_count": null,
   "metadata": {},
   "outputs": [],
   "source": [
    "\n",
    "\n",
    "#lgb_train = lgb.Dataset(X_train, y_train)\n",
    "\n",
    "#params = {\n",
    "  #  'objective': 'binary',\n",
    "  #  'metric': 'binary_logloss',\n",
    "  #  'boosting_type': 'gbdt',\n",
    "   # 'num_leaves': 31,\n",
    "   # 'learning_rate': 0.05,\n",
    "    #'feature_fraction': 0.9,\n",
    "   # 'bagging_fraction': 0.8,\n",
    "   # 'bagging_freq': 5,\n",
    "   # 'verbose': -1\n",
    "}\n",
    "\n",
    "#gbm = lgb.train(params, lgb_train, num_boost_round=100)\n"
   ]
  },
  {
   "cell_type": "code",
   "execution_count": null,
   "metadata": {},
   "outputs": [],
   "source": [
    "#y_pred = gbm.predict(X_test)\n",
    "#y_pred = [1 if pred > 0.5 else 0 for pred in y_pred]\n",
    "\n",
    "#accuracy = accuracy_score(y_test, y_pred)\n",
    "#print(f\"Accuracy: {accuracy:.2f}\")\n"
   ]
  },
  {
   "cell_type": "code",
   "execution_count": 16,
   "metadata": {},
   "outputs": [
    {
     "name": "stdout",
     "output_type": "stream",
     "text": [
      "Accuracy: 1.00\n"
     ]
    },
    {
     "data": {
      "image/png": "[encoded data removed]",
      "text/plain": [
       "<Figure size 432x288 with 1 Axes>"
      ]
     },
     "metadata": {
      "needs_background": "light"
     },
     "output_type": "display_data"
    }
   ],
   "source": [
    "X = data[['HL_PCT', 'PCT_change']]\n",
    "y = data['buy_signal']\n",
    "X_train, X_test, y_train, y_test = train_test_split(X, y, test_size=0.2, random_state=42)\n",
    "\n",
    "\n",
    "lgb_train = lgb.Dataset(X_train, y_train)\n",
    "params = {\n",
    "    'objective': 'binary',\n",
    "    'metric': 'binary_logloss',\n",
    "    'boosting_type': 'gbdt',\n",
    "    'num_leaves': 31,\n",
    "    'learning_rate': 0.05,\n",
    "    'feature_fraction': 0.9,\n",
    "    'bagging_fraction': 0.8,\n",
    "    'bagging_freq': 5,\n",
    "    'verbose': -1\n",
    "}\n",
    "gbm = lgb.train(params, lgb_train, num_boost_round=100)\n",
    "\n",
    "\n",
    "y_pred = gbm.predict(X_test)\n",
    "y_pred = [1 if pred > 0.5 else 0 for pred in y_pred]\n",
    "\n",
    "\n",
    "accuracy = accuracy_score(y_test, y_pred)\n",
    "print(f\"Accuracy: {accuracy:.2f}\")\n",
    "\n",
    "plt.scatter(X_test['HL_PCT'], X_test['PCT_change'], c=y_pred)\n",
    "plt.xlabel('HL_PCT')\n",
    "plt.ylabel('PCT_change')\n",
    "plt.title(\"dagılım\")\n",
    "plt.show()\n"
   ]
  },
  {
   "cell_type": "code",
   "execution_count": 17,
   "metadata": {},
   "outputs": [],
   "source": [
    "import joblib\n",
    "\n",
    "# Modeli bir dosyaya kaydedelim\n",
    "joblib.dump(gbm, 'model.joblib')\n",
    "\n",
    "# Modeli dosyadan yükleyelim\n",
    "gbm_loaded = joblib.load('model.joblib')\n"
   ]
  },
  {
   "cell_type": "code",
   "execution_count": 18,
   "metadata": {},
   "outputs": [
    {
     "name": "stdout",
     "output_type": "stream",
     "text": [
      "This is not a buyable stock\n"
     ]
    }
   ],
   "source": [
    "\n",
    "model = joblib.load('model.joblib')\n",
    "\n",
    "\n",
    "HL_PCT = float(input(\"Enter the HL_PCT value: \"))\n",
    "PCT_change = float(input(\"Enter the PCT_change value: \"))\n",
    "\n",
    "data = [[HL_PCT, PCT_change]]\n",
    "prediction = model.predict(data)[0]\n",
    "\n",
    "\n",
    "if prediction > 0.5:\n",
    "    print(\"This is a buyable stock\")\n",
    "else:\n",
    "    print(\"This is not a buyable stock\")\n"
   ]
  },
  {
   "cell_type": "code",
   "execution_count": null,
   "metadata": {},
   "outputs": [],
   "source": []
  }
 ],
 "metadata": {
  "kernelspec": {
   "display_name": "Python 3",
   "language": "python",
   "name": "python3"
  },
  "language_info": {
   "codemirror_mode": {
    "name": "ipython",
    "version": 3
   },
   "file_extension": ".py",
   "mimetype": "text/x-python",
   "name": "python",
   "nbconvert_exporter": "python",
   "pygments_lexer": "ipython3",
   "version": "3.9.10"
  },
  "orig_nbformat": 4
 },
 "nbformat": 4,
 "nbformat_minor": 2
}
